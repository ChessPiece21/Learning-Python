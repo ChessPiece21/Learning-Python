{
 "cells": [
  {
   "cell_type": "markdown",
   "id": "474440a6-cd44-4027-88d8-7da0825f61ab",
   "metadata": {},
   "source": [
    "# Exercise: Pandas (and Jupyter) Basics\n",
    "In this lesson, we are go introduce some of the basics of [Pandas](https://pandas.pydata.org/pandas-docs/stable/getting_started/overview.html), a Python library for working with table data, like CSVs."
   ]
  },
  {
   "cell_type": "markdown",
   "id": "576bd8fa-738e-46c8-8028-5a56aac7e281",
   "metadata": {},
   "source": [
    "## Dataset: *The Pudding*'s Film Dialogue Data\n",
    "The dataset that we're working with in this lesson is taken from Hannah Andersen and Matt Daniels's *Pudding* essay, [\"Film Dialogue from 2,000 screenplays, Broken Down by Gender and Age\"](https://pudding.cool/2017/03/film-dialogue/). The dataset provides information about 2,000 films from 1925 to 2015, including characters’ names, genders, ages, how many words each character spoke in each film, the release year of each film, and how much money the film grossed. They included character gender information because they wanted to contribute data to a broader conversation about how \"white men dominate movie roles.\""
   ]
  },
  {
   "cell_type": "markdown",
   "id": "140e08b1-2a7f-433c-8539-e151dd4fc62c",
   "metadata": {},
   "source": [
    "## Importing Pandas\n",
    "To use the Pandas library, we need to **import** it first. Do it the way you usually import a Python package."
   ]
  },
  {
   "cell_type": "code",
   "execution_count": 3,
   "id": "ddac43dc-5b0d-4592-b34f-84e2f137500d",
   "metadata": {},
   "outputs": [],
   "source": [
    "import pandas as pd\n",
    "\n",
    "# By default, Pandas will display 60 rows and 20 columns. I often change Pandas' default display settings to show more rows or columns.\n",
    "# You don't have to worry about this for now, just run it.\n",
    "pd.options.display.max_rows = 100"
   ]
  },
  {
   "cell_type": "markdown",
   "id": "1e58bdd7-52c6-410b-a61e-73cb9948dae9",
   "metadata": {},
   "source": [
    "## Reading CSV Files as Data Frames\n",
    "Pandas takes in [data frames](https://pandas.pydata.org/pandas-docs/stable/user_guide/dsintro.html#DataFrame) as inputs, which are objects that act like spreadsheets but utilize multiple functions discussed in the next few lectures. \n",
    "\n",
    "Import the *Pudding* data frame using a method called **.read_csv()**. Try it out here, with the name of the file (included in the exercise) in the parentheses."
   ]
  },
  {
   "cell_type": "code",
   "execution_count": 4,
   "id": "26b7a4db-334a-4672-b8a3-07a800e8abf8",
   "metadata": {},
   "outputs": [],
   "source": [
    "pudding_df = pd.read_csv(\"Pudding-Film-Dialogue.csv\")"
   ]
  },
  {
   "cell_type": "markdown",
   "id": "2e6cc001-8442-4f4b-b300-7dec4aa6348f",
   "metadata": {},
   "source": [
    "## Data Frame Overviews\n",
    "To look at a random *n* number of rows in a data frame, you can use a method called **.sample()**. Use it here to get a sample of some of the rows here."
   ]
  },
  {
   "cell_type": "code",
   "execution_count": 5,
   "id": "011688f4-d21c-4d5b-b9b0-d13e21ad25f5",
   "metadata": {},
   "outputs": [
    {
     "data": {
      "text/html": [
       "<div>\n",
       "<style scoped>\n",
       "    .dataframe tbody tr th:only-of-type {\n",
       "        vertical-align: middle;\n",
       "    }\n",
       "\n",
       "    .dataframe tbody tr th {\n",
       "        vertical-align: top;\n",
       "    }\n",
       "\n",
       "    .dataframe thead th {\n",
       "        text-align: right;\n",
       "    }\n",
       "</style>\n",
       "<table border=\"1\" class=\"dataframe\">\n",
       "  <thead>\n",
       "    <tr style=\"text-align: right;\">\n",
       "      <th></th>\n",
       "      <th>title</th>\n",
       "      <th>release_year</th>\n",
       "      <th>character</th>\n",
       "      <th>gender</th>\n",
       "      <th>words</th>\n",
       "      <th>proportion_of_dialogue</th>\n",
       "      <th>age</th>\n",
       "      <th>gross</th>\n",
       "      <th>script_id</th>\n",
       "    </tr>\n",
       "  </thead>\n",
       "  <tbody>\n",
       "    <tr>\n",
       "      <th>16999</th>\n",
       "      <td>Interstellar</td>\n",
       "      <td>2014</td>\n",
       "      <td>Case</td>\n",
       "      <td>man</td>\n",
       "      <td>301</td>\n",
       "      <td>0.031808</td>\n",
       "      <td>37.0</td>\n",
       "      <td>200.0</td>\n",
       "      <td>6092</td>\n",
       "    </tr>\n",
       "    <tr>\n",
       "      <th>10617</th>\n",
       "      <td>Star Wars: Episode I - The Phantom Menace</td>\n",
       "      <td>1999</td>\n",
       "      <td>Anakin Skywalke</td>\n",
       "      <td>man</td>\n",
       "      <td>1697</td>\n",
       "      <td>0.158037</td>\n",
       "      <td>10.0</td>\n",
       "      <td>813.0</td>\n",
       "      <td>3437</td>\n",
       "    </tr>\n",
       "    <tr>\n",
       "      <th>14043</th>\n",
       "      <td>The Mirror Has Two Faces</td>\n",
       "      <td>1996</td>\n",
       "      <td>Gregory Larkin</td>\n",
       "      <td>man</td>\n",
       "      <td>3852</td>\n",
       "      <td>0.295807</td>\n",
       "      <td>47.0</td>\n",
       "      <td>81.0</td>\n",
       "      <td>4630</td>\n",
       "    </tr>\n",
       "    <tr>\n",
       "      <th>13640</th>\n",
       "      <td>Labor Day</td>\n",
       "      <td>2013</td>\n",
       "      <td>Officer Treadwe</td>\n",
       "      <td>man</td>\n",
       "      <td>218</td>\n",
       "      <td>0.022916</td>\n",
       "      <td>36.0</td>\n",
       "      <td>14.0</td>\n",
       "      <td>4495</td>\n",
       "    </tr>\n",
       "    <tr>\n",
       "      <th>6454</th>\n",
       "      <td>Fantastic Mr. Fox</td>\n",
       "      <td>2009</td>\n",
       "      <td>Franklin Bean</td>\n",
       "      <td>man</td>\n",
       "      <td>845</td>\n",
       "      <td>0.063505</td>\n",
       "      <td>69.0</td>\n",
       "      <td>24.0</td>\n",
       "      <td>2266</td>\n",
       "    </tr>\n",
       "    <tr>\n",
       "      <th>7179</th>\n",
       "      <td>Hall Pass</td>\n",
       "      <td>2011</td>\n",
       "      <td>Aunt Meg</td>\n",
       "      <td>woman</td>\n",
       "      <td>315</td>\n",
       "      <td>0.014221</td>\n",
       "      <td>NaN</td>\n",
       "      <td>49.0</td>\n",
       "      <td>2465</td>\n",
       "    </tr>\n",
       "    <tr>\n",
       "      <th>22594</th>\n",
       "      <td>Liar Liar</td>\n",
       "      <td>1997</td>\n",
       "      <td>Fletcher Reede</td>\n",
       "      <td>man</td>\n",
       "      <td>4105</td>\n",
       "      <td>0.529063</td>\n",
       "      <td>35.0</td>\n",
       "      <td>343.0</td>\n",
       "      <td>8971</td>\n",
       "    </tr>\n",
       "    <tr>\n",
       "      <th>8811</th>\n",
       "      <td>The Master</td>\n",
       "      <td>2012</td>\n",
       "      <td>Susan Gregory</td>\n",
       "      <td>woman</td>\n",
       "      <td>233</td>\n",
       "      <td>0.015870</td>\n",
       "      <td>NaN</td>\n",
       "      <td>17.0</td>\n",
       "      <td>2866</td>\n",
       "    </tr>\n",
       "    <tr>\n",
       "      <th>9250</th>\n",
       "      <td>Next Friday</td>\n",
       "      <td>2000</td>\n",
       "      <td>Smokey       (A</td>\n",
       "      <td>man</td>\n",
       "      <td>132</td>\n",
       "      <td>0.016031</td>\n",
       "      <td>28.0</td>\n",
       "      <td>92.0</td>\n",
       "      <td>2996</td>\n",
       "    </tr>\n",
       "    <tr>\n",
       "      <th>13104</th>\n",
       "      <td>Hardcore</td>\n",
       "      <td>1979</td>\n",
       "      <td>Mary</td>\n",
       "      <td>woman</td>\n",
       "      <td>128</td>\n",
       "      <td>0.015405</td>\n",
       "      <td>37.0</td>\n",
       "      <td>NaN</td>\n",
       "      <td>4333</td>\n",
       "    </tr>\n",
       "  </tbody>\n",
       "</table>\n",
       "</div>"
      ],
      "text/plain": [
       "                                           title  release_year  \\\n",
       "16999                               Interstellar          2014   \n",
       "10617  Star Wars: Episode I - The Phantom Menace          1999   \n",
       "14043                   The Mirror Has Two Faces          1996   \n",
       "13640                                  Labor Day          2013   \n",
       "6454                           Fantastic Mr. Fox          2009   \n",
       "7179                                   Hall Pass          2011   \n",
       "22594                                  Liar Liar          1997   \n",
       "8811                                  The Master          2012   \n",
       "9250                                 Next Friday          2000   \n",
       "13104                                   Hardcore          1979   \n",
       "\n",
       "             character gender  words  proportion_of_dialogue   age  gross  \\\n",
       "16999             Case    man    301                0.031808  37.0  200.0   \n",
       "10617  Anakin Skywalke    man   1697                0.158037  10.0  813.0   \n",
       "14043   Gregory Larkin    man   3852                0.295807  47.0   81.0   \n",
       "13640  Officer Treadwe    man    218                0.022916  36.0   14.0   \n",
       "6454     Franklin Bean    man    845                0.063505  69.0   24.0   \n",
       "7179          Aunt Meg  woman    315                0.014221   NaN   49.0   \n",
       "22594   Fletcher Reede    man   4105                0.529063  35.0  343.0   \n",
       "8811     Susan Gregory  woman    233                0.015870   NaN   17.0   \n",
       "9250   Smokey       (A    man    132                0.016031  28.0   92.0   \n",
       "13104             Mary  woman    128                0.015405  37.0    NaN   \n",
       "\n",
       "       script_id  \n",
       "16999       6092  \n",
       "10617       3437  \n",
       "14043       4630  \n",
       "13640       4495  \n",
       "6454        2266  \n",
       "7179        2465  \n",
       "22594       8971  \n",
       "8811        2866  \n",
       "9250        2996  \n",
       "13104       4333  "
      ]
     },
     "execution_count": 5,
     "metadata": {},
     "output_type": "execute_result"
    }
   ],
   "source": [
    "pudding_df.sample(10)"
   ]
  },
  {
   "cell_type": "markdown",
   "id": "759b5c06-fd96-435b-b007-a8d38311d370",
   "metadata": {},
   "source": [
    "## Some Basic Pandas Methods\n",
    "- **.sum()** calculuates the sum of mulitple values.\n",
    "- **.mean()** calculates the average of all the values.\n",
    "- **.median()** finds the median of all the values.\n",
    "- **.max()** finds the maximum of all the values.\n",
    "- **.min()** finds the miimum of all the values.\n",
    "- **.mode()** finds the most common value in the dataset.\n",
    "- **.count()** finds the total number of non-blank values in the dataset.\n",
    "- **.value_counts** shows the frequency of unique values in the dataset.\n",
    "\n",
    "Try these methods out with the dataset! Please answer the following questions using Pandas methods:"
   ]
  },
  {
   "cell_type": "code",
   "execution_count": 6,
   "id": "fe85ef18-6dca-42e5-a987-eb1fea08bc64",
   "metadata": {},
   "outputs": [
    {
     "data": {
      "text/plain": [
       "42.2750520205892"
      ]
     },
     "execution_count": 6,
     "metadata": {},
     "output_type": "execute_result"
    }
   ],
   "source": [
    "# How old (on average) are the characters in the dataset?\n",
    "avg_age = pudding_df[\"age\"].mean()\n",
    "avg_age"
   ]
  },
  {
   "cell_type": "code",
   "execution_count": 10,
   "id": "07f1cd6f-0d04-4bb6-ac89-e563d224909a",
   "metadata": {},
   "outputs": [
    {
     "name": "stdout",
     "output_type": "stream",
     "text": [
      "The oldest person in this dataset is 2009.0 years old.\n"
     ]
    }
   ],
   "source": [
    "# How old is the oldest character in the dataset?\n",
    "max_age = pudding_df[\"age\"].max()\n",
    "print(f\"The oldest person in this dataset is {max_age} years old.\")"
   ]
  },
  {
   "cell_type": "code",
   "execution_count": 11,
   "id": "8764ef35-7874-447b-8120-28b3f1f483c7",
   "metadata": {},
   "outputs": [
    {
     "name": "stdout",
     "output_type": "stream",
     "text": [
      "The youngest person in this dataset is 3.0 years old.\n"
     ]
    }
   ],
   "source": [
    "# How young is the youngest character in the dataset?\n",
    "min_age = pudding_df[\"age\"].min()\n",
    "print(f\"The youngest person in this dataset is {min_age} years old.\")"
   ]
  },
  {
   "cell_type": "code",
   "execution_count": 12,
   "id": "ad6b4d51-7ceb-45c1-bdcb-f553d48e46fb",
   "metadata": {},
   "outputs": [
    {
     "data": {
      "text/plain": [
       "man      16131\n",
       "woman     6911\n",
       "?            5\n",
       "Name: gender, dtype: int64"
      ]
     },
     "execution_count": 12,
     "metadata": {},
     "output_type": "execute_result"
    }
   ],
   "source": [
    "# Calculate the frequency between both genders in the dataset. \n",
    "# Hint: use the method at the bottom of the explanatory list!\n",
    "gender_frequency = pudding_df[\"gender\"].value_counts()\n",
    "gender_frequency"
   ]
  },
  {
   "cell_type": "markdown",
   "id": "80f24a1e-36e2-47e8-8e4b-5be330407718",
   "metadata": {},
   "source": [
    "## Examining Subsets\n",
    "Write a conditional statement that will flter the data frame to only show rows that have characters from a movie of your choice. Explore the dataset to find one of your favorite movies!\n",
    "\n",
    "This creates a **subset** of your data frame, based on one specific parameter."
   ]
  },
  {
   "cell_type": "code",
   "execution_count": 14,
   "id": "5bf3f502-9a21-4573-abe9-865fb5c0e43a",
   "metadata": {},
   "outputs": [
    {
     "data": {
      "text/html": [
       "<div>\n",
       "<style scoped>\n",
       "    .dataframe tbody tr th:only-of-type {\n",
       "        vertical-align: middle;\n",
       "    }\n",
       "\n",
       "    .dataframe tbody tr th {\n",
       "        vertical-align: top;\n",
       "    }\n",
       "\n",
       "    .dataframe thead th {\n",
       "        text-align: right;\n",
       "    }\n",
       "</style>\n",
       "<table border=\"1\" class=\"dataframe\">\n",
       "  <thead>\n",
       "    <tr style=\"text-align: right;\">\n",
       "      <th></th>\n",
       "      <th>title</th>\n",
       "      <th>release_year</th>\n",
       "      <th>character</th>\n",
       "      <th>gender</th>\n",
       "      <th>words</th>\n",
       "      <th>proportion_of_dialogue</th>\n",
       "      <th>age</th>\n",
       "      <th>gross</th>\n",
       "      <th>script_id</th>\n",
       "    </tr>\n",
       "  </thead>\n",
       "  <tbody>\n",
       "    <tr>\n",
       "      <th>2095</th>\n",
       "      <td>The Matrix</td>\n",
       "      <td>1999</td>\n",
       "      <td>Agent Smith</td>\n",
       "      <td>man</td>\n",
       "      <td>976</td>\n",
       "      <td>0.170838</td>\n",
       "      <td>39.0</td>\n",
       "      <td>292.0</td>\n",
       "      <td>1141</td>\n",
       "    </tr>\n",
       "    <tr>\n",
       "      <th>2096</th>\n",
       "      <td>The Matrix</td>\n",
       "      <td>1999</td>\n",
       "      <td>Morpheus</td>\n",
       "      <td>man</td>\n",
       "      <td>2123</td>\n",
       "      <td>0.371609</td>\n",
       "      <td>38.0</td>\n",
       "      <td>292.0</td>\n",
       "      <td>1141</td>\n",
       "    </tr>\n",
       "    <tr>\n",
       "      <th>2097</th>\n",
       "      <td>The Matrix</td>\n",
       "      <td>1999</td>\n",
       "      <td>Neo</td>\n",
       "      <td>man</td>\n",
       "      <td>995</td>\n",
       "      <td>0.174164</td>\n",
       "      <td>35.0</td>\n",
       "      <td>292.0</td>\n",
       "      <td>1141</td>\n",
       "    </tr>\n",
       "    <tr>\n",
       "      <th>2098</th>\n",
       "      <td>The Matrix</td>\n",
       "      <td>1999</td>\n",
       "      <td>Oracle</td>\n",
       "      <td>woman</td>\n",
       "      <td>208</td>\n",
       "      <td>0.036408</td>\n",
       "      <td>66.0</td>\n",
       "      <td>292.0</td>\n",
       "      <td>1141</td>\n",
       "    </tr>\n",
       "    <tr>\n",
       "      <th>2099</th>\n",
       "      <td>The Matrix</td>\n",
       "      <td>1999</td>\n",
       "      <td>Tank</td>\n",
       "      <td>man</td>\n",
       "      <td>535</td>\n",
       "      <td>0.093646</td>\n",
       "      <td>32.0</td>\n",
       "      <td>292.0</td>\n",
       "      <td>1141</td>\n",
       "    </tr>\n",
       "    <tr>\n",
       "      <th>2100</th>\n",
       "      <td>The Matrix</td>\n",
       "      <td>1999</td>\n",
       "      <td>Trinity</td>\n",
       "      <td>woman</td>\n",
       "      <td>876</td>\n",
       "      <td>0.153335</td>\n",
       "      <td>32.0</td>\n",
       "      <td>292.0</td>\n",
       "      <td>1141</td>\n",
       "    </tr>\n",
       "  </tbody>\n",
       "</table>\n",
       "</div>"
      ],
      "text/plain": [
       "           title  release_year    character gender  words  \\\n",
       "2095  The Matrix          1999  Agent Smith    man    976   \n",
       "2096  The Matrix          1999     Morpheus    man   2123   \n",
       "2097  The Matrix          1999          Neo    man    995   \n",
       "2098  The Matrix          1999       Oracle  woman    208   \n",
       "2099  The Matrix          1999         Tank    man    535   \n",
       "2100  The Matrix          1999      Trinity  woman    876   \n",
       "\n",
       "      proportion_of_dialogue   age  gross  script_id  \n",
       "2095                0.170838  39.0  292.0       1141  \n",
       "2096                0.371609  38.0  292.0       1141  \n",
       "2097                0.174164  35.0  292.0       1141  \n",
       "2098                0.036408  66.0  292.0       1141  \n",
       "2099                0.093646  32.0  292.0       1141  \n",
       "2100                0.153335  32.0  292.0       1141  "
      ]
     },
     "execution_count": 14,
     "metadata": {},
     "output_type": "execute_result"
    }
   ],
   "source": [
    "title_filter = pudding_df[\"title\"] == \"The Matrix\"\n",
    "pudding_df[title_filter]"
   ]
  },
  {
   "cell_type": "markdown",
   "id": "717d1767-86a5-4d8f-91b6-3ada0d6de0be",
   "metadata": {},
   "source": [
    "##❓ What potential issues do you notice when you look closer at this data?\n",
    "\n",
    "What do you think about The Pudding's approach to assigning gender in this dataset? What alternatives could we potentially use, if any?\n",
    "\n",
    "Your answer here (in *italics*):\n",
    "*I think one of the biggest problems comes when some characters are based on the ACTOR's gender rather than the CHARACTER's. Look at Roz in \"Monsters, Inc.,\" as discussed in the textbook (voiced by a man, but the character is a woman), or the Oracle in \"The Matrix\" (played by a woman, but the character is nonbinary) - these are complexities that the dataset doesn't tell you, and I think that specifying the CHARACTER's gender is better than the actor's.*"
   ]
  }
 ],
 "metadata": {
  "kernelspec": {
   "display_name": "Python 3",
   "language": "python",
   "name": "python3"
  },
  "language_info": {
   "codemirror_mode": {
    "name": "ipython",
    "version": 3
   },
   "file_extension": ".py",
   "mimetype": "text/x-python",
   "name": "python",
   "nbconvert_exporter": "python",
   "pygments_lexer": "ipython3",
   "version": "3.8.8"
  }
 },
 "nbformat": 4,
 "nbformat_minor": 5
}
